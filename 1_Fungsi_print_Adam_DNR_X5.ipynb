{
  "nbformat": 4,
  "nbformat_minor": 0,
  "metadata": {
    "colab": {
      "provenance": [],
      "toc_visible": true,
      "authorship_tag": "ABX9TyPSg72Ok38o9dIqO/87EoS4",
      "include_colab_link": true
    },
    "kernelspec": {
      "name": "python3",
      "display_name": "Python 3"
    },
    "language_info": {
      "name": "python"
    }
  },
  "cells": [
    {
      "cell_type": "markdown",
      "metadata": {
        "id": "view-in-github",
        "colab_type": "text"
      },
      "source": [
        "<a href=\"https://colab.research.google.com/github/adamrizkyyy/KKA-X-Semester-1/blob/main/1_Fungsi_print_Adam_DNR_X5.ipynb\" target=\"_parent\"><img src=\"https://colab.research.google.com/assets/colab-badge.svg\" alt=\"Open In Colab\"/></a>"
      ]
    },
    {
      "cell_type": "markdown",
      "source": [
        "\n",
        "\n",
        "#1.   Menampilkan Teks Bebas\n",
        "\n"
      ],
      "metadata": {
        "id": "SIFM6AqChc12"
      }
    },
    {
      "cell_type": "code",
      "execution_count": 1,
      "metadata": {
        "id": "z9y8xf3ighMc",
        "colab": {
          "base_uri": "https://localhost:8080/"
        },
        "outputId": "ea2a219c-ba68-4ddf-ff57-68fef66206e8"
      },
      "outputs": [
        {
          "output_type": "stream",
          "name": "stdout",
          "text": [
            "hello world\n"
          ]
        }
      ],
      "source": [
        "print(\"hello world\")"
      ]
    },
    {
      "cell_type": "code",
      "source": [
        "print(\"Adam Dwi Nur Rizky\")"
      ],
      "metadata": {
        "colab": {
          "base_uri": "https://localhost:8080/"
        },
        "id": "LdtMbhNQioqK",
        "outputId": "0b255e05-1cae-4b16-a9a5-d87641d8808c"
      },
      "execution_count": 2,
      "outputs": [
        {
          "output_type": "stream",
          "name": "stdout",
          "text": [
            "Adam Dwi Nur Rizky\n"
          ]
        }
      ]
    },
    {
      "cell_type": "markdown",
      "source": [
        "#2. Menampilkan Nilai Variable"
      ],
      "metadata": {
        "id": "VP6Txt0HkETP"
      }
    },
    {
      "cell_type": "code",
      "source": [
        "beratbadan = 85\n",
        "print(beratbadan)"
      ],
      "metadata": {
        "colab": {
          "base_uri": "https://localhost:8080/"
        },
        "id": "5zLh-T90lInk",
        "outputId": "729405cc-3687-4fd1-e673-e251b2037941"
      },
      "execution_count": 3,
      "outputs": [
        {
          "output_type": "stream",
          "name": "stdout",
          "text": [
            "85\n"
          ]
        }
      ]
    },
    {
      "cell_type": "code",
      "source": [
        "tinggibadan = 173\n",
        "print(tinggibadan)"
      ],
      "metadata": {
        "colab": {
          "base_uri": "https://localhost:8080/"
        },
        "id": "FzTg3uixmlv_",
        "outputId": "1b918e2b-ef17-43ed-efef-0ea567f4af70"
      },
      "execution_count": 4,
      "outputs": [
        {
          "output_type": "stream",
          "name": "stdout",
          "text": [
            "173\n"
          ]
        }
      ]
    },
    {
      "cell_type": "code",
      "source": [
        "Nama = \"Adam Dwi Nur Rizky\"\n",
        "print(Nama)"
      ],
      "metadata": {
        "colab": {
          "base_uri": "https://localhost:8080/"
        },
        "id": "B88xmyTEnBAe",
        "outputId": "9ac5c5f0-0245-4491-feb8-df0ebf39d842"
      },
      "execution_count": 5,
      "outputs": [
        {
          "output_type": "stream",
          "name": "stdout",
          "text": [
            "Adam Dwi Nur Rizky\n"
          ]
        }
      ]
    },
    {
      "cell_type": "code",
      "source": [
        "Namaidola = \"Supermen\"\n",
        "print(Namaidola)"
      ],
      "metadata": {
        "colab": {
          "base_uri": "https://localhost:8080/"
        },
        "id": "CiqsbVl3nXG2",
        "outputId": "f147dedd-c263-4569-914a-e87a29c814f8"
      },
      "execution_count": 6,
      "outputs": [
        {
          "output_type": "stream",
          "name": "stdout",
          "text": [
            "Supermen\n"
          ]
        }
      ]
    },
    {
      "cell_type": "markdown",
      "source": [
        "#3. Menampilkan Teks Bebas dan Nilai Variabel"
      ],
      "metadata": {
        "id": "t8MG7KR8lhlr"
      }
    },
    {
      "cell_type": "code",
      "source": [
        "print(\"Halo nama saya\", Nama,\".Berat badan saya \",beratbadan, \"Kg.\")"
      ],
      "metadata": {
        "colab": {
          "base_uri": "https://localhost:8080/"
        },
        "id": "vUrB8sJNlqPo",
        "outputId": "8ece918a-bc9d-4f08-fa83-7544cab662d5"
      },
      "execution_count": 7,
      "outputs": [
        {
          "output_type": "stream",
          "name": "stdout",
          "text": [
            "Halo nama saya Adam Dwi Nur Rizky .Berat badan saya  85 Kg.\n"
          ]
        }
      ]
    },
    {
      "cell_type": "code",
      "source": [
        "print(\"Halo nama saya \"+ Nama+\". Berat badan saya \"+str(beratbadan)+\" Kg\")"
      ],
      "metadata": {
        "colab": {
          "base_uri": "https://localhost:8080/"
        },
        "id": "LGtHSO9InPnF",
        "outputId": "df168d79-1bb5-4e45-ef82-8306035c7858"
      },
      "execution_count": 8,
      "outputs": [
        {
          "output_type": "stream",
          "name": "stdout",
          "text": [
            "Halo nama saya Adam Dwi Nur Rizky. Berat badan saya 85 Kg\n"
          ]
        }
      ]
    },
    {
      "cell_type": "code",
      "source": [
        "print(f\"Halo nama saya {Nama}. Berat badan saya {beratbadan} Kg\")"
      ],
      "metadata": {
        "colab": {
          "base_uri": "https://localhost:8080/"
        },
        "id": "ZiuZNg1aqiwB",
        "outputId": "841fd6fe-f97f-493d-a7df-1c495e60aabe"
      },
      "execution_count": 9,
      "outputs": [
        {
          "output_type": "stream",
          "name": "stdout",
          "text": [
            "Halo nama saya Adam Dwi Nur Rizky. Berat badan saya 85 Kg\n"
          ]
        }
      ]
    },
    {
      "cell_type": "markdown",
      "source": [
        "#4. Escape Character"
      ],
      "metadata": {
        "id": "h8zPyOcYrIw0"
      }
    },
    {
      "cell_type": "code",
      "source": [
        "print(\"Nama: Adam Dwi Nur Rizky\")\n",
        "print(\"Kelas : X5\")\n",
        "print(\"No. Absen: 01\")"
      ],
      "metadata": {
        "colab": {
          "base_uri": "https://localhost:8080/"
        },
        "id": "JSOugLASrNaN",
        "outputId": "d46a60fa-37ec-4b67-bbc8-445b61d61903"
      },
      "execution_count": 10,
      "outputs": [
        {
          "output_type": "stream",
          "name": "stdout",
          "text": [
            "Nama: Adam Dwi Nur Rizky\n",
            "Kelas : X5\n",
            "No. Absen: 01\n"
          ]
        }
      ]
    },
    {
      "cell_type": "code",
      "source": [
        "print(\"Nama: Adam Dwi Nur Rizky\\nKelas: X.5\\nNo. Absen: 01\")"
      ],
      "metadata": {
        "colab": {
          "base_uri": "https://localhost:8080/"
        },
        "id": "8zB0HOyIrnNf",
        "outputId": "0f493244-974d-4f68-c21d-a31599407f01"
      },
      "execution_count": 11,
      "outputs": [
        {
          "output_type": "stream",
          "name": "stdout",
          "text": [
            "Nama: Adam Dwi Nur Rizky\n",
            "Kelas: X.5\n",
            "No. Absen: 01\n"
          ]
        }
      ]
    },
    {
      "cell_type": "code",
      "source": [
        "print(\"\"\"Nama\\t\\t:Adam Dwi Nur Rizky\n",
        "Kelas\\t\\t: X.5\n",
        "No. Absen\\t: 01\"\"\")\n"
      ],
      "metadata": {
        "colab": {
          "base_uri": "https://localhost:8080/"
        },
        "id": "V-S9jJNP0rdv",
        "outputId": "dfde1a61-d70d-47a5-bf39-2cd056311864"
      },
      "execution_count": 12,
      "outputs": [
        {
          "output_type": "stream",
          "name": "stdout",
          "text": [
            "Nama\t\t:Adam Dwi Nur Rizky\n",
            "Kelas\t\t: X.5\n",
            "No. Absen\t: 01\n"
          ]
        }
      ]
    },
    {
      "cell_type": "code",
      "source": [
        "print('Nama saya Ja\\'far Shodiq')"
      ],
      "metadata": {
        "colab": {
          "base_uri": "https://localhost:8080/"
        },
        "id": "d7s4OsJF1NHz",
        "outputId": "ddd70803-0eba-492d-bd4e-eac07fe1e064"
      },
      "execution_count": 13,
      "outputs": [
        {
          "output_type": "stream",
          "name": "stdout",
          "text": [
            "Nama saya Ja'far Shodiq\n"
          ]
        }
      ]
    },
    {
      "cell_type": "code",
      "source": [
        "print(\"Nama saya Ja'far Shodiq\")"
      ],
      "metadata": {
        "colab": {
          "base_uri": "https://localhost:8080/"
        },
        "id": "nZm6M7k_1hpx",
        "outputId": "9a3600f0-ae33-4493-a6c4-3dbf294d8c75"
      },
      "execution_count": 14,
      "outputs": [
        {
          "output_type": "stream",
          "name": "stdout",
          "text": [
            "Nama saya Ja'far Shodiq\n"
          ]
        }
      ]
    },
    {
      "cell_type": "code",
      "source": [
        "print(\"Nama saya Ja'far Shodiq\")"
      ],
      "metadata": {
        "colab": {
          "base_uri": "https://localhost:8080/"
        },
        "id": "bYgAp89m1td6",
        "outputId": "44bb9fed-9e04-469a-b2cc-86ac46f44391"
      },
      "execution_count": 15,
      "outputs": [
        {
          "output_type": "stream",
          "name": "stdout",
          "text": [
            "Nama saya Ja'far Shodiq\n"
          ]
        }
      ]
    },
    {
      "cell_type": "code",
      "source": [
        "print('Bu shinta berkata,\"Tolong perhatikan TV dan saya\"')"
      ],
      "metadata": {
        "colab": {
          "base_uri": "https://localhost:8080/"
        },
        "id": "2TA4sHTL2B23",
        "outputId": "6e1d70e0-1163-4f2f-bdb1-984175ec283c"
      },
      "execution_count": 16,
      "outputs": [
        {
          "output_type": "stream",
          "name": "stdout",
          "text": [
            "Bu shinta berkata,\"Tolong perhatikan TV dan saya\"\n"
          ]
        }
      ]
    },
    {
      "cell_type": "code",
      "source": [
        "print(\"Bu shinta berkata,\\\"Tolong perhatikan TV dan saya\\\"\")"
      ],
      "metadata": {
        "colab": {
          "base_uri": "https://localhost:8080/"
        },
        "id": "jTZd6dpl2XXg",
        "outputId": "480a8476-0ca3-48a9-deda-3c3d34d07727"
      },
      "execution_count": 17,
      "outputs": [
        {
          "output_type": "stream",
          "name": "stdout",
          "text": [
            "Bu shinta berkata,\"Tolong perhatikan TV dan saya\"\n"
          ]
        }
      ]
    },
    {
      "cell_type": "code",
      "source": [
        "print(\"Lokasi File tugas KKA adalah di Lokal disc C:\\\\KKA\\\\Tugas\")"
      ],
      "metadata": {
        "colab": {
          "base_uri": "https://localhost:8080/"
        },
        "id": "zO3__9tG2xYI",
        "outputId": "6ab5ff74-75db-4738-8057-cb24f2b9b293"
      },
      "execution_count": 18,
      "outputs": [
        {
          "output_type": "stream",
          "name": "stdout",
          "text": [
            "Lokasi File tugas KKA adalah di Lokal disc C:\\KKA\\Tugas\n"
          ]
        }
      ]
    },
    {
      "cell_type": "code",
      "source": [
        "print(\"Bu Shinta berkata,\\\"Berikut adalah daftar piket harian kelas X.5\\nyang disimpan di file D:\\\\MAN Demak\\\\Jadwal Piket.\\\"\\n\\nSenin\\tSealasa\\tRabu\\nJielo\\tHasbi\\tNaufal\\nAzam\\tAida\\tA'Inun\")"
      ],
      "metadata": {
        "colab": {
          "base_uri": "https://localhost:8080/"
        },
        "id": "ejeXoC1C88I4",
        "outputId": "1578783a-6aeb-4423-aa82-28eebc4a9c6c"
      },
      "execution_count": 19,
      "outputs": [
        {
          "output_type": "stream",
          "name": "stdout",
          "text": [
            "Bu Shinta berkata,\"Berikut adalah daftar piket harian kelas X.5\n",
            "yang disimpan di file D:\\MAN Demak\\Jadwal Piket.\"\n",
            "\n",
            "Senin\tSealasa\tRabu\n",
            "Jielo\tHasbi\tNaufal\n",
            "Azam\tAida\tA'Inun\n"
          ]
        }
      ]
    },
    {
      "cell_type": "markdown",
      "source": [
        "# 5. Parameter Fungsi Print"
      ],
      "metadata": {
        "id": "TfJSa2FbulFp"
      }
    },
    {
      "cell_type": "code",
      "source": [
        "nama_siswa_1 = \"Jielo\"\n",
        "nama_siswa_2 = \"Aida\"\n",
        "nama_siswa_3 = \"Dani\"\n",
        "\n",
        "print(nama_siswa_1, end=\"-\")\n",
        "print(nama_siswa_2, end=\"-\")\n",
        "print(nama_siswa_3)"
      ],
      "metadata": {
        "colab": {
          "base_uri": "https://localhost:8080/"
        },
        "id": "0U7rSQ1Euv78",
        "outputId": "eac0f360-f108-4719-d0c3-ce596ffb0c82"
      },
      "execution_count": 20,
      "outputs": [
        {
          "output_type": "stream",
          "name": "stdout",
          "text": [
            "Jielo-Aida-Dani\n"
          ]
        }
      ]
    },
    {
      "cell_type": "code",
      "source": [
        "nama_siswa_1 = \"Jielo\"\n",
        "nama_siswa_2 = \"Aida\"\n",
        "nama_siswa_3 = \"Dani\"\n",
        "nama_siswa_4 = \"Nurul\"\n",
        "\n",
        "print(nama_siswa_4, end=\"/\")\n",
        "print(nama_siswa_2, end=\"/\")\n",
        "print(nama_siswa_1, end=\"/\")\n",
        "print(nama_siswa_3)"
      ],
      "metadata": {
        "colab": {
          "base_uri": "https://localhost:8080/"
        },
        "id": "-BrovfSfxklA",
        "outputId": "3cad8a86-fe51-42f1-c5e7-f04c07c1f388"
      },
      "execution_count": 21,
      "outputs": [
        {
          "output_type": "stream",
          "name": "stdout",
          "text": [
            "Nurul/Aida/Jielo/Dani\n"
          ]
        }
      ]
    },
    {
      "cell_type": "code",
      "source": [
        "nama_siswa_5 = \"Hasbi\"\n",
        "nama_siswa_6 = \"Habibi\"\n",
        "nama_siswa_7 = \"Rendra\"\n",
        "nama_siswa_8 = \"Naufal\"\n",
        "\n",
        "print(nama_siswa_8, nama_siswa_7, nama_siswa_5, nama_siswa_6, sep=\"-\")"
      ],
      "metadata": {
        "colab": {
          "base_uri": "https://localhost:8080/"
        },
        "id": "7PLfybqr5D6m",
        "outputId": "6f62fb94-1231-44ec-9727-b855e5f366f9"
      },
      "execution_count": 22,
      "outputs": [
        {
          "output_type": "stream",
          "name": "stdout",
          "text": [
            "Naufal-Rendra-Hasbi-Habibi\n"
          ]
        }
      ]
    },
    {
      "cell_type": "code",
      "source": [
        "nama_siswa_5 = \"Hasbi\"\n",
        "nama_siswa_6 = \"Habibi\"\n",
        "nama_siswa_7 = \"Rendra\"\n",
        "nama_siswa_8 = \"Naufal\"\n",
        "\n",
        "print(nama_siswa_5, nama_siswa_8, nama_siswa_7, nama_siswa_6, sep=\"*\")\n",
        "print(nama_siswa_7, nama_siswa_6, nama_siswa_5, nama_siswa_7, nama_siswa_7, sep=\"-\")"
      ],
      "metadata": {
        "colab": {
          "base_uri": "https://localhost:8080/"
        },
        "id": "LmoIQ2nH7n8E",
        "outputId": "210d4269-a846-400e-8abd-ce452ba9be30"
      },
      "execution_count": 23,
      "outputs": [
        {
          "output_type": "stream",
          "name": "stdout",
          "text": [
            "Hasbi*Naufal*Rendra*Habibi\n",
            "Rendra-Habibi-Hasbi-Rendra-Rendra\n"
          ]
        }
      ]
    }
  ]
}